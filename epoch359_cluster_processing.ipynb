{
 "cells": [
  {
   "cell_type": "code",
   "execution_count": null,
   "id": "c5347a10",
   "metadata": {},
   "outputs": [],
   "source": [
    "import os\n",
    "import pandas as pd\n",
    "import numpy as np\n",
    "import tensorflow as tf\n",
    "import seaborn as sns\n",
    "import matplotlib.pyplot as plt"
   ]
  },
  {
   "cell_type": "code",
   "execution_count": null,
   "id": "8ce92ed5",
   "metadata": {},
   "outputs": [],
   "source": [
    "# prepare all the data\n",
    "reduction_factor = 5 # for clustering and y_hc-dependent identification of frames\n",
    "\n",
    "wildtype_data     = np.loadtxt (\"result0_wt.txt\")\n",
    "wildtype_data     = wildtype_data [:,1:] # delete first column which is frame number\n",
    "wildtype_data     = wildtype_data/100 # normalizing\n",
    "wildtype_truth    = np.zeros(len(wildtype_data)) #set wildtype labels to 0\n",
    "wildtype_selected = wildtype_data[::reduction_factor] # reduce array to fit y_hc output\n",
    "\n",
    "mutant_1_data     = np.loadtxt (\"result1_D132-H.txt\")\n",
    "mutant_1_data     = mutant_1_data [:,1:] # delete first column which is frame number\n",
    "mutant_1_data     = mutant_1_data/100 # normalizing\n",
    "mutant_1_truth    = np.ones(len(mutant_1_data)) #set mutant labels to 1\n",
    "mutant_1_selected = mutant_1_data[::reduction_factor] # reduce array to fit y_hc output\n",
    "\n",
    "print('Wildtype Training Data Shape:', wildtype_data.shape)\n",
    "print('Wildtype Truth Data Shape:   ', wildtype_truth.shape)\n",
    "print('Wildtype Selected Data Shape:', wildtype_selected.shape)\n",
    "print('D132-H   Training Data Shape:', mutant_1_data.shape)\n",
    "print('D132-H   Truth Data Shape:   ', mutant_1_truth.shape)\n",
    "print('D132-H   Selected Data Shape:', mutant_1_selected.shape)\n",
    "\n",
    "lcp_data   = np.vstack((wildtype_data, mutant_1_data))\n",
    "truth_data = np.hstack((wildtype_truth, mutant_1_truth))\n",
    "                       \n",
    "print (\"\\nCombined input data:\", lcp_data.shape)\n",
    "print (\"Combined truth_data:\", truth_data.shape, \"\\n\")"
   ]
  },
  {
   "cell_type": "code",
   "execution_count": null,
   "id": "761832f6",
   "metadata": {},
   "outputs": [],
   "source": [
    "# load the model, recover and analyze latent data\n",
    "autoencoder = tf.keras.models.load_model('saved_model_359')\n",
    "dr_model = tf.keras.models.Model(inputs=autoencoder.get_layer('input_1').input, outputs=autoencoder.get_layer('dense_1').output)"
   ]
  },
  {
   "cell_type": "code",
   "execution_count": null,
   "id": "1b13149d",
   "metadata": {},
   "outputs": [],
   "source": [
    "# plot model output data from latent plane\n",
    "x = []\n",
    "y = []\n",
    "z = []\n",
    "for i in range(80000):\n",
    "    z.append(truth_data[i])\n",
    "    op = dr_model.predict(np.array([lcp_data[i]]))\n",
    "    #op = dr_model.predict(np.array([lcp_data[i]]))\n",
    "    x.append(op[0][0])\n",
    "    y.append(op[0][1])\n",
    "\n",
    "df = pd.DataFrame()\n",
    "df['x'] = x\n",
    "df['y'] = y\n",
    "df['z'] = [\"trajectory-\" + str(k) for k in z]\n",
    " \n",
    "plt.figure(figsize=(8, 6));\n",
    "fig = sns.scatterplot(x = 'x', y='y', hue='z', data=df, s=10)\n",
    "fig.figure.savefig(\"combined_data_0.png\", dpi=300)\n",
    "plt.show()\n",
    "# save the result\n",
    "df.to_pickle (\"combined_data_result\")"
   ]
  },
  {
   "cell_type": "code",
   "execution_count": null,
   "id": "f1f6a7a3",
   "metadata": {},
   "outputs": [],
   "source": [
    "# read in and plot the original data set\n",
    "result_df = pd.read_pickle ('combined_data_result')\n",
    "result_df = result_df.replace({'trajectory-0.0': 0, 'trajectory-1.0': 1})\n",
    "\n",
    "plt.ylim (-1.5,4)\n",
    "plt.xlim (-1.6, 2.6)\n",
    "plt.xlabel(\"Latent Plane x-coordinates\")\n",
    "plt.ylabel(\"Latent Plane y-coordinates\")\n",
    "plt.scatter (result_df.x,result_df.y, c = result_df.z, cmap=\"bwr\", edgecolors=\"none\", s = 0.5, alpha=1)\n",
    "plt.savefig(\"combined_data_1.png\", dpi = 300)\n",
    "plt.show()"
   ]
  },
  {
   "cell_type": "code",
   "execution_count": null,
   "id": "8e340ffb",
   "metadata": {},
   "outputs": [],
   "source": [
    "# plot the results\n",
    "plt.ylim (-1.5,4)\n",
    "plt.xlim (-1.6, 2.6)\n",
    "plt.xlabel(\"Latent Plane x-coordinates\")\n",
    "plt.ylabel(\"Latent Plane y-coordinates\")\n",
    "plt.scatter (result_df['x'], result_df['y'], s = 1, c = result_df['cluster'], cmap = 'rainbow_r')\n",
    "plt.savefig(\"combined_data_2.png\", dpi = 300)\n",
    "plt.show()"
   ]
  },
  {
   "cell_type": "code",
   "execution_count": null,
   "id": "96f49038",
   "metadata": {},
   "outputs": [],
   "source": [
    "cluster_numbers = pd.read_pickle(\"cluster_assigments_12\")\n",
    "print (\"The smallest cluster number is:\\t\", np.min(cluster_numbers['cluster']))\n",
    "print (\"The highest cluster number is:\\t\",  np.max(cluster_numbers['cluster']))\n",
    "\n",
    "#identify individual cluster numbers manually\n",
    "choice = int(input(\"Which cluster number would you like to visualize?\"))\n",
    "plt.ylim (-1.5,4)\n",
    "plt.xlim (-1.6, 2.6)\n",
    "plt.scatter (cluster_numbers['x'], cluster_numbers['y'], s = 1, color = \"gainsboro\")\n",
    "selected = cluster_numbers.loc[cluster_numbers['cluster'] == choice]\n",
    "plt.scatter (selected['x'], selected['y'], s = 1, color = \"red\") #terrain gist_rainbow gnuplot\n",
    "plt.show()"
   ]
  },
  {
   "cell_type": "code",
   "execution_count": null,
   "id": "010b3540",
   "metadata": {},
   "outputs": [],
   "source": [
    "plt.plot (cluster_numbers['cluster'][0:8000] + 1,\".\", ms=\"10\", color='navy', alpha = 0.1); # this is the wildtype data\n",
    "plt.plot (cluster_numbers['cluster'][8000:16000] + 1,\".\", ms=\"10\", color='red', alpha = 0.1); # this is the D132-H data\n",
    "plt.title (\"Cluster Distributions Over Trajectories\")\n",
    "plt.savefig (\"cluster_distributions_trajectories.png\", dpi = 300)\n",
    "plt.show()                  "
   ]
  },
  {
   "cell_type": "code",
   "execution_count": null,
   "id": "bb720f9e",
   "metadata": {},
   "outputs": [],
   "source": [
    "x_axis = np.arange(1,13)\n",
    "print (\"Length of cluster-identity assigned array;\", len(cluster_numbers['cluster']))\n",
    "wildtype_cluster_distribution = np.histogram(cluster_numbers['cluster'][0:8000], bins = [0, 1, 2, 3, 4, 5, 6, 7, 8, 9, 10, 11, 12])\n",
    "mutant_cluster_distribution = np.histogram(cluster_numbers['cluster'][8000:16000], bins = [0, 1, 2, 3, 4, 5, 6, 7, 8, 9, 10, 11, 12])\n",
    "\n",
    "plt.xticks(np.arange(1, 13, 1.0))\n",
    "plt.xlabel(\"Cluster #\")\n",
    "plt.ylabel(\"Number of Frames\")\n",
    "plt.bar(x_axis, wildtype_cluster_distribution [0], width = 0.4, color='navy');\n",
    "plt.bar(x_axis + 0.4, mutant_cluster_distribution [0], width = 0.4,color='red');\n",
    "plt.savefig(\"differential_cluster_distribution.png\", dpi = 300)\n",
    "plt.show()"
   ]
  }
 ],
 "metadata": {
  "kernelspec": {
   "display_name": "Python 3 (ipykernel)",
   "language": "python",
   "name": "python3"
  },
  "language_info": {
   "codemirror_mode": {
    "name": "ipython",
    "version": 3
   },
   "file_extension": ".py",
   "mimetype": "text/x-python",
   "name": "python",
   "nbconvert_exporter": "python",
   "pygments_lexer": "ipython3",
   "version": "3.8.10"
  }
 },
 "nbformat": 4,
 "nbformat_minor": 5
}
